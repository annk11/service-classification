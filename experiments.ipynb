{
 "cells": [
  {
   "cell_type": "code",
   "id": "initial_id",
   "metadata": {
    "collapsed": true,
    "ExecuteTime": {
     "end_time": "2024-11-13T19:19:00.662908Z",
     "start_time": "2024-11-13T19:18:54.629481Z"
    }
   },
   "source": [
    "import re\n",
    "from time import time\n",
    "\n",
    "import pandas as pd\n",
    "import matplotlib.pyplot as plt \n",
    "import seaborn as sns \n",
    "import numpy as np \n",
    "import nltk\n",
    "from nltk.corpus import stopwords\n",
    "from pymystem3 import Mystem\n",
    "from sklearn.feature_extraction.text import TfidfVectorizer\n",
    "from sklearn.model_selection import train_test_split\n",
    "from sklearn.linear_model import LogisticRegression\n",
    "from sklearn.tree import DecisionTreeClassifier\n",
    "from sklearn.model_selection import KFold\n",
    "from sklearn.metrics import classification_report, f1_score\n",
    "from catboost import CatBoostClassifier\n",
    "from transformers import BertTokenizer, BertForSequenceClassification, TrainingArguments, \\\n",
    "                         Trainer, DataCollatorWithPadding\n",
    "import torch\n",
    "from datasets import Dataset, DatasetDict\n",
    "import evaluate\n",
    "from sentence_transformers import SentenceTransformer\n",
    "from langdetect import detect\n",
    "from wordcloud import WordCloud, STOPWORDS, ImageColorGenerator\n",
    "from sklearn.metrics import confusion_matrix, accuracy_score\n",
    "from sklearn.metrics import ConfusionMatrixDisplay"
   ],
   "outputs": [
    {
     "name": "stderr",
     "output_type": "stream",
     "text": [
      "/Users/anastasianikitina/PycharmProjects/service-classification/venv/lib/python3.12/site-packages/tqdm/auto.py:21: TqdmWarning: IProgress not found. Please update jupyter and ipywidgets. See https://ipywidgets.readthedocs.io/en/stable/user_install.html\n",
      "  from .autonotebook import tqdm as notebook_tqdm\n"
     ]
    }
   ],
   "execution_count": 1
  },
  {
   "metadata": {},
   "cell_type": "markdown",
   "source": [
    "# EDA"
   ],
   "id": "e8ccaf9f3bcc231c"
  },
  {
   "metadata": {
    "ExecuteTime": {
     "end_time": "2024-11-11T18:04:02.838897Z",
     "start_time": "2024-11-11T18:04:02.791541Z"
    }
   },
   "cell_type": "code",
   "source": [
    "df = pd.read_json('data/Sarcasm_Headlines_Dataset_v2.json', lines=True)\n",
    "\n",
    "df.info()"
   ],
   "id": "9d472bedcc5079ac",
   "outputs": [
    {
     "name": "stdout",
     "output_type": "stream",
     "text": [
      "<class 'pandas.core.frame.DataFrame'>\n",
      "RangeIndex: 28619 entries, 0 to 28618\n",
      "Data columns (total 3 columns):\n",
      " #   Column        Non-Null Count  Dtype \n",
      "---  ------        --------------  ----- \n",
      " 0   is_sarcastic  28619 non-null  int64 \n",
      " 1   headline      28619 non-null  object\n",
      " 2   article_link  28619 non-null  object\n",
      "dtypes: int64(1), object(2)\n",
      "memory usage: 670.9+ KB\n"
     ]
    }
   ],
   "execution_count": 4
  },
  {
   "metadata": {
    "ExecuteTime": {
     "end_time": "2024-11-11T18:04:03.611756Z",
     "start_time": "2024-11-11T18:04:03.605833Z"
    }
   },
   "cell_type": "code",
   "source": [
    "df.head(5)"
   ],
   "id": "681be3d2c3bc438b",
   "outputs": [
    {
     "data": {
      "text/plain": [
       "   is_sarcastic                                           headline  \\\n",
       "0             1  thirtysomething scientists unveil doomsday clo...   \n",
       "1             0  dem rep. totally nails why congress is falling...   \n",
       "2             0  eat your veggies: 9 deliciously different recipes   \n",
       "3             1  inclement weather prevents liar from getting t...   \n",
       "4             1  mother comes pretty close to using word 'strea...   \n",
       "\n",
       "                                        article_link  \n",
       "0  https://www.theonion.com/thirtysomething-scien...  \n",
       "1  https://www.huffingtonpost.com/entry/donna-edw...  \n",
       "2  https://www.huffingtonpost.com/entry/eat-your-...  \n",
       "3  https://local.theonion.com/inclement-weather-p...  \n",
       "4  https://www.theonion.com/mother-comes-pretty-c...  "
      ],
      "text/html": [
       "<div>\n",
       "<style scoped>\n",
       "    .dataframe tbody tr th:only-of-type {\n",
       "        vertical-align: middle;\n",
       "    }\n",
       "\n",
       "    .dataframe tbody tr th {\n",
       "        vertical-align: top;\n",
       "    }\n",
       "\n",
       "    .dataframe thead th {\n",
       "        text-align: right;\n",
       "    }\n",
       "</style>\n",
       "<table border=\"1\" class=\"dataframe\">\n",
       "  <thead>\n",
       "    <tr style=\"text-align: right;\">\n",
       "      <th></th>\n",
       "      <th>is_sarcastic</th>\n",
       "      <th>headline</th>\n",
       "      <th>article_link</th>\n",
       "    </tr>\n",
       "  </thead>\n",
       "  <tbody>\n",
       "    <tr>\n",
       "      <th>0</th>\n",
       "      <td>1</td>\n",
       "      <td>thirtysomething scientists unveil doomsday clo...</td>\n",
       "      <td>https://www.theonion.com/thirtysomething-scien...</td>\n",
       "    </tr>\n",
       "    <tr>\n",
       "      <th>1</th>\n",
       "      <td>0</td>\n",
       "      <td>dem rep. totally nails why congress is falling...</td>\n",
       "      <td>https://www.huffingtonpost.com/entry/donna-edw...</td>\n",
       "    </tr>\n",
       "    <tr>\n",
       "      <th>2</th>\n",
       "      <td>0</td>\n",
       "      <td>eat your veggies: 9 deliciously different recipes</td>\n",
       "      <td>https://www.huffingtonpost.com/entry/eat-your-...</td>\n",
       "    </tr>\n",
       "    <tr>\n",
       "      <th>3</th>\n",
       "      <td>1</td>\n",
       "      <td>inclement weather prevents liar from getting t...</td>\n",
       "      <td>https://local.theonion.com/inclement-weather-p...</td>\n",
       "    </tr>\n",
       "    <tr>\n",
       "      <th>4</th>\n",
       "      <td>1</td>\n",
       "      <td>mother comes pretty close to using word 'strea...</td>\n",
       "      <td>https://www.theonion.com/mother-comes-pretty-c...</td>\n",
       "    </tr>\n",
       "  </tbody>\n",
       "</table>\n",
       "</div>"
      ]
     },
     "execution_count": 5,
     "metadata": {},
     "output_type": "execute_result"
    }
   ],
   "execution_count": 5
  },
  {
   "metadata": {
    "ExecuteTime": {
     "end_time": "2024-11-11T18:04:04.230733Z",
     "start_time": "2024-11-11T18:04:04.132384Z"
    }
   },
   "cell_type": "code",
   "source": [
    "sns.barplot(df.groupby('is_sarcastic').agg('count')['headline']);"
   ],
   "id": "52d15f5129fded35",
   "outputs": [
    {
     "data": {
      "text/plain": [
       "<Figure size 640x480 with 1 Axes>"
      ],
      "image/png": "[encoded data removed]"
     },
     "metadata": {},
     "output_type": "display_data"
    }
   ],
   "execution_count": 6
  },
  {
   "metadata": {},
   "cell_type": "raw",
   "source": "Исходя из анализа количества имеющихся классов, можно сказать, что дисбаланса нет, поскольку значения колисечтва классов расходятся не сильно.",
   "id": "dea9a7c86fab1e07"
  },
  {
   "metadata": {
    "ExecuteTime": {
     "end_time": "2024-11-11T18:04:04.578709Z",
     "start_time": "2024-11-11T18:04:04.570658Z"
    }
   },
   "cell_type": "code",
   "source": [
    "df.headline.str.len().describe()"
   ],
   "id": "a65325c93bd2ae9c",
   "outputs": [
    {
     "data": {
      "text/plain": [
       "count    28619.000000\n",
       "mean        62.308571\n",
       "std         20.726483\n",
       "min          7.000000\n",
       "25%         49.000000\n",
       "50%         62.000000\n",
       "75%         75.000000\n",
       "max        926.000000\n",
       "Name: headline, dtype: float64"
      ]
     },
     "execution_count": 7,
     "metadata": {},
     "output_type": "execute_result"
    }
   ],
   "execution_count": 7
  },
  {
   "metadata": {
    "ExecuteTime": {
     "end_time": "2024-11-11T18:04:05.005624Z",
     "start_time": "2024-11-11T18:04:04.996835Z"
    }
   },
   "cell_type": "code",
   "source": [
    "df=df.drop(df[df['headline'].duplicated()].index,axis=0)\n",
    "df.isnull().sum()\n",
    "df.info()"
   ],
   "id": "d4c99f40cead158a",
   "outputs": [
    {
     "name": "stdout",
     "output_type": "stream",
     "text": [
      "<class 'pandas.core.frame.DataFrame'>\n",
      "Index: 28503 entries, 0 to 28618\n",
      "Data columns (total 3 columns):\n",
      " #   Column        Non-Null Count  Dtype \n",
      "---  ------        --------------  ----- \n",
      " 0   is_sarcastic  28503 non-null  int64 \n",
      " 1   headline      28503 non-null  object\n",
      " 2   article_link  28503 non-null  object\n",
      "dtypes: int64(1), object(2)\n",
      "memory usage: 890.7+ KB\n"
     ]
    }
   ],
   "execution_count": 8
  },
  {
   "metadata": {},
   "cell_type": "markdown",
   "source": [
    "# Data Preprocessing"
   ],
   "id": "c1e7536bed269ed"
  },
  {
   "metadata": {
    "ExecuteTime": {
     "end_time": "2024-11-11T18:04:06.122661Z",
     "start_time": "2024-11-11T18:04:06.088802Z"
    }
   },
   "cell_type": "code",
   "source": [
    "def clean_text(text):\n",
    "    text = re.sub('[^a-zA-Z ]', ' ', text)  # Удаление специальных символов\n",
    "    text = text.lower()  # Приведение к нижнему регистру\n",
    "    text = ' '.join(text.split())  # Удаление лишних пробелов\n",
    "    return text\n",
    "\n",
    "df['cleaned_headline'] = df['headline'].apply(clean_text)\n",
    "df"
   ],
   "id": "78c3ce41036253ad",
   "outputs": [
    {
     "data": {
      "text/plain": [
       "       is_sarcastic                                           headline  \\\n",
       "0                 1  thirtysomething scientists unveil doomsday clo...   \n",
       "1                 0  dem rep. totally nails why congress is falling...   \n",
       "2                 0  eat your veggies: 9 deliciously different recipes   \n",
       "3                 1  inclement weather prevents liar from getting t...   \n",
       "4                 1  mother comes pretty close to using word 'strea...   \n",
       "...             ...                                                ...   \n",
       "28614             1       jews to celebrate rosh hashasha or something   \n",
       "28615             1  internal affairs investigator disappointed con...   \n",
       "28616             0  the most beautiful acceptance speech this week...   \n",
       "28617             1  mars probe destroyed by orbiting spielberg-gat...   \n",
       "28618             1                 dad clarifies this not a food stop   \n",
       "\n",
       "                                            article_link  \\\n",
       "0      https://www.theonion.com/thirtysomething-scien...   \n",
       "1      https://www.huffingtonpost.com/entry/donna-edw...   \n",
       "2      https://www.huffingtonpost.com/entry/eat-your-...   \n",
       "3      https://local.theonion.com/inclement-weather-p...   \n",
       "4      https://www.theonion.com/mother-comes-pretty-c...   \n",
       "...                                                  ...   \n",
       "28614  https://www.theonion.com/jews-to-celebrate-ros...   \n",
       "28615  https://local.theonion.com/internal-affairs-in...   \n",
       "28616  https://www.huffingtonpost.com/entry/andrew-ah...   \n",
       "28617  https://www.theonion.com/mars-probe-destroyed-...   \n",
       "28618  https://www.theonion.com/dad-clarifies-this-no...   \n",
       "\n",
       "                                        cleaned_headline  \n",
       "0      thirtysomething scientists unveil doomsday clo...  \n",
       "1      dem rep totally nails why congress is falling ...  \n",
       "2         eat your veggies deliciously different recipes  \n",
       "3      inclement weather prevents liar from getting t...  \n",
       "4      mother comes pretty close to using word stream...  \n",
       "...                                                  ...  \n",
       "28614       jews to celebrate rosh hashasha or something  \n",
       "28615  internal affairs investigator disappointed con...  \n",
       "28616  the most beautiful acceptance speech this week...  \n",
       "28617  mars probe destroyed by orbiting spielberg gat...  \n",
       "28618                 dad clarifies this not a food stop  \n",
       "\n",
       "[28503 rows x 4 columns]"
      ],
      "text/html": [
       "<div>\n",
       "<style scoped>\n",
       "    .dataframe tbody tr th:only-of-type {\n",
       "        vertical-align: middle;\n",
       "    }\n",
       "\n",
       "    .dataframe tbody tr th {\n",
       "        vertical-align: top;\n",
       "    }\n",
       "\n",
       "    .dataframe thead th {\n",
       "        text-align: right;\n",
       "    }\n",
       "</style>\n",
       "<table border=\"1\" class=\"dataframe\">\n",
       "  <thead>\n",
       "    <tr style=\"text-align: right;\">\n",
       "      <th></th>\n",
       "      <th>is_sarcastic</th>\n",
       "      <th>headline</th>\n",
       "      <th>article_link</th>\n",
       "      <th>cleaned_headline</th>\n",
       "    </tr>\n",
       "  </thead>\n",
       "  <tbody>\n",
       "    <tr>\n",
       "      <th>0</th>\n",
       "      <td>1</td>\n",
       "      <td>thirtysomething scientists unveil doomsday clo...</td>\n",
       "      <td>https://www.theonion.com/thirtysomething-scien...</td>\n",
       "      <td>thirtysomething scientists unveil doomsday clo...</td>\n",
       "    </tr>\n",
       "    <tr>\n",
       "      <th>1</th>\n",
       "      <td>0</td>\n",
       "      <td>dem rep. totally nails why congress is falling...</td>\n",
       "      <td>https://www.huffingtonpost.com/entry/donna-edw...</td>\n",
       "      <td>dem rep totally nails why congress is falling ...</td>\n",
       "    </tr>\n",
       "    <tr>\n",
       "      <th>2</th>\n",
       "      <td>0</td>\n",
       "      <td>eat your veggies: 9 deliciously different recipes</td>\n",
       "      <td>https://www.huffingtonpost.com/entry/eat-your-...</td>\n",
       "      <td>eat your veggies deliciously different recipes</td>\n",
       "    </tr>\n",
       "    <tr>\n",
       "      <th>3</th>\n",
       "      <td>1</td>\n",
       "      <td>inclement weather prevents liar from getting t...</td>\n",
       "      <td>https://local.theonion.com/inclement-weather-p...</td>\n",
       "      <td>inclement weather prevents liar from getting t...</td>\n",
       "    </tr>\n",
       "    <tr>\n",
       "      <th>4</th>\n",
       "      <td>1</td>\n",
       "      <td>mother comes pretty close to using word 'strea...</td>\n",
       "      <td>https://www.theonion.com/mother-comes-pretty-c...</td>\n",
       "      <td>mother comes pretty close to using word stream...</td>\n",
       "    </tr>\n",
       "    <tr>\n",
       "      <th>...</th>\n",
       "      <td>...</td>\n",
       "      <td>...</td>\n",
       "      <td>...</td>\n",
       "      <td>...</td>\n",
       "    </tr>\n",
       "    <tr>\n",
       "      <th>28614</th>\n",
       "      <td>1</td>\n",
       "      <td>jews to celebrate rosh hashasha or something</td>\n",
       "      <td>https://www.theonion.com/jews-to-celebrate-ros...</td>\n",
       "      <td>jews to celebrate rosh hashasha or something</td>\n",
       "    </tr>\n",
       "    <tr>\n",
       "      <th>28615</th>\n",
       "      <td>1</td>\n",
       "      <td>internal affairs investigator disappointed con...</td>\n",
       "      <td>https://local.theonion.com/internal-affairs-in...</td>\n",
       "      <td>internal affairs investigator disappointed con...</td>\n",
       "    </tr>\n",
       "    <tr>\n",
       "      <th>28616</th>\n",
       "      <td>0</td>\n",
       "      <td>the most beautiful acceptance speech this week...</td>\n",
       "      <td>https://www.huffingtonpost.com/entry/andrew-ah...</td>\n",
       "      <td>the most beautiful acceptance speech this week...</td>\n",
       "    </tr>\n",
       "    <tr>\n",
       "      <th>28617</th>\n",
       "      <td>1</td>\n",
       "      <td>mars probe destroyed by orbiting spielberg-gat...</td>\n",
       "      <td>https://www.theonion.com/mars-probe-destroyed-...</td>\n",
       "      <td>mars probe destroyed by orbiting spielberg gat...</td>\n",
       "    </tr>\n",
       "    <tr>\n",
       "      <th>28618</th>\n",
       "      <td>1</td>\n",
       "      <td>dad clarifies this not a food stop</td>\n",
       "      <td>https://www.theonion.com/dad-clarifies-this-no...</td>\n",
       "      <td>dad clarifies this not a food stop</td>\n",
       "    </tr>\n",
       "  </tbody>\n",
       "</table>\n",
       "<p>28503 rows × 4 columns</p>\n",
       "</div>"
      ]
     },
     "execution_count": 9,
     "metadata": {},
     "output_type": "execute_result"
    }
   ],
   "execution_count": 9
  },
  {
   "metadata": {
    "ExecuteTime": {
     "end_time": "2024-11-11T18:04:06.849675Z",
     "start_time": "2024-11-11T18:04:06.844644Z"
    }
   },
   "cell_type": "code",
   "source": [
    "clean_df = df[['cleaned_headline', 'is_sarcastic']]\n",
    "clean_df"
   ],
   "id": "955b729a9f00ea55",
   "outputs": [
    {
     "data": {
      "text/plain": [
       "                                        cleaned_headline  is_sarcastic\n",
       "0      thirtysomething scientists unveil doomsday clo...             1\n",
       "1      dem rep totally nails why congress is falling ...             0\n",
       "2         eat your veggies deliciously different recipes             0\n",
       "3      inclement weather prevents liar from getting t...             1\n",
       "4      mother comes pretty close to using word stream...             1\n",
       "...                                                  ...           ...\n",
       "28614       jews to celebrate rosh hashasha or something             1\n",
       "28615  internal affairs investigator disappointed con...             1\n",
       "28616  the most beautiful acceptance speech this week...             0\n",
       "28617  mars probe destroyed by orbiting spielberg gat...             1\n",
       "28618                 dad clarifies this not a food stop             1\n",
       "\n",
       "[28503 rows x 2 columns]"
      ],
      "text/html": [
       "<div>\n",
       "<style scoped>\n",
       "    .dataframe tbody tr th:only-of-type {\n",
       "        vertical-align: middle;\n",
       "    }\n",
       "\n",
       "    .dataframe tbody tr th {\n",
       "        vertical-align: top;\n",
       "    }\n",
       "\n",
       "    .dataframe thead th {\n",
       "        text-align: right;\n",
       "    }\n",
       "</style>\n",
       "<table border=\"1\" class=\"dataframe\">\n",
       "  <thead>\n",
       "    <tr style=\"text-align: right;\">\n",
       "      <th></th>\n",
       "      <th>cleaned_headline</th>\n",
       "      <th>is_sarcastic</th>\n",
       "    </tr>\n",
       "  </thead>\n",
       "  <tbody>\n",
       "    <tr>\n",
       "      <th>0</th>\n",
       "      <td>thirtysomething scientists unveil doomsday clo...</td>\n",
       "      <td>1</td>\n",
       "    </tr>\n",
       "    <tr>\n",
       "      <th>1</th>\n",
       "      <td>dem rep totally nails why congress is falling ...</td>\n",
       "      <td>0</td>\n",
       "    </tr>\n",
       "    <tr>\n",
       "      <th>2</th>\n",
       "      <td>eat your veggies deliciously different recipes</td>\n",
       "      <td>0</td>\n",
       "    </tr>\n",
       "    <tr>\n",
       "      <th>3</th>\n",
       "      <td>inclement weather prevents liar from getting t...</td>\n",
       "      <td>1</td>\n",
       "    </tr>\n",
       "    <tr>\n",
       "      <th>4</th>\n",
       "      <td>mother comes pretty close to using word stream...</td>\n",
       "      <td>1</td>\n",
       "    </tr>\n",
       "    <tr>\n",
       "      <th>...</th>\n",
       "      <td>...</td>\n",
       "      <td>...</td>\n",
       "    </tr>\n",
       "    <tr>\n",
       "      <th>28614</th>\n",
       "      <td>jews to celebrate rosh hashasha or something</td>\n",
       "      <td>1</td>\n",
       "    </tr>\n",
       "    <tr>\n",
       "      <th>28615</th>\n",
       "      <td>internal affairs investigator disappointed con...</td>\n",
       "      <td>1</td>\n",
       "    </tr>\n",
       "    <tr>\n",
       "      <th>28616</th>\n",
       "      <td>the most beautiful acceptance speech this week...</td>\n",
       "      <td>0</td>\n",
       "    </tr>\n",
       "    <tr>\n",
       "      <th>28617</th>\n",
       "      <td>mars probe destroyed by orbiting spielberg gat...</td>\n",
       "      <td>1</td>\n",
       "    </tr>\n",
       "    <tr>\n",
       "      <th>28618</th>\n",
       "      <td>dad clarifies this not a food stop</td>\n",
       "      <td>1</td>\n",
       "    </tr>\n",
       "  </tbody>\n",
       "</table>\n",
       "<p>28503 rows × 2 columns</p>\n",
       "</div>"
      ]
     },
     "execution_count": 10,
     "metadata": {},
     "output_type": "execute_result"
    }
   ],
   "execution_count": 10
  },
  {
   "metadata": {
    "ExecuteTime": {
     "end_time": "2024-11-11T18:04:09.803032Z",
     "start_time": "2024-11-11T18:04:09.021523Z"
    }
   },
   "cell_type": "code",
   "source": [
    "import nltk\n",
    "from nltk.corpus import stopwords\n",
    "from nltk.tokenize import word_tokenize\n",
    "\n",
    "nltk.download('punkt')\n",
    "nltk.download('stopwords')\n",
    "\n",
    "stop_words = set(stopwords.words('english'))\n",
    "\n",
    "def preprocess(text):\n",
    "    tokens = word_tokenize(text.lower())\n",
    "    filtered_tokens = [word for word in tokens if word.isalnum() and word not in stop_words]\n",
    "    return ' '.join(filtered_tokens)\n",
    "\n",
    "clean_df['processed'] = df['cleaned_headline'].apply(preprocess)\n",
    "print(clean_df)"
   ],
   "id": "b338e528f926eb87",
   "outputs": [
    {
     "name": "stderr",
     "output_type": "stream",
     "text": [
      "[nltk_data] Downloading package punkt to\n",
      "[nltk_data]     /Users/anastasianikitina/nltk_data...\n",
      "[nltk_data]   Package punkt is already up-to-date!\n",
      "[nltk_data] Downloading package stopwords to\n",
      "[nltk_data]     /Users/anastasianikitina/nltk_data...\n",
      "[nltk_data]   Package stopwords is already up-to-date!\n"
     ]
    },
    {
     "name": "stdout",
     "output_type": "stream",
     "text": [
      "                                        cleaned_headline  is_sarcastic  \\\n",
      "0      thirtysomething scientists unveil doomsday clo...             1   \n",
      "1      dem rep totally nails why congress is falling ...             0   \n",
      "2         eat your veggies deliciously different recipes             0   \n",
      "3      inclement weather prevents liar from getting t...             1   \n",
      "4      mother comes pretty close to using word stream...             1   \n",
      "...                                                  ...           ...   \n",
      "28614       jews to celebrate rosh hashasha or something             1   \n",
      "28615  internal affairs investigator disappointed con...             1   \n",
      "28616  the most beautiful acceptance speech this week...             0   \n",
      "28617  mars probe destroyed by orbiting spielberg gat...             1   \n",
      "28618                 dad clarifies this not a food stop             1   \n",
      "\n",
      "                                               processed  \n",
      "0      thirtysomething scientists unveil doomsday clo...  \n",
      "1      dem rep totally nails congress falling short g...  \n",
      "2              eat veggies deliciously different recipes  \n",
      "3           inclement weather prevents liar getting work  \n",
      "4      mother comes pretty close using word streaming...  \n",
      "...                                                  ...  \n",
      "28614             jews celebrate rosh hashasha something  \n",
      "28615  internal affairs investigator disappointed con...  \n",
      "28616  beautiful acceptance speech week came queer ko...  \n",
      "28617  mars probe destroyed orbiting spielberg gates ...  \n",
      "28618                            dad clarifies food stop  \n",
      "\n",
      "[28503 rows x 3 columns]\n"
     ]
    },
    {
     "name": "stderr",
     "output_type": "stream",
     "text": [
      "/var/folders/1h/6qfyp7nn31g62hlw2tr2yltm0000gn/T/ipykernel_11317/1990027873.py:15: SettingWithCopyWarning: \n",
      "A value is trying to be set on a copy of a slice from a DataFrame.\n",
      "Try using .loc[row_indexer,col_indexer] = value instead\n",
      "\n",
      "See the caveats in the documentation: https://pandas.pydata.org/pandas-docs/stable/user_guide/indexing.html#returning-a-view-versus-a-copy\n",
      "  clean_df['processed'] = df['cleaned_headline'].apply(preprocess)\n"
     ]
    }
   ],
   "execution_count": 11
  },
  {
   "metadata": {
    "ExecuteTime": {
     "end_time": "2024-11-11T18:04:09.926488Z",
     "start_time": "2024-11-11T18:04:09.922357Z"
    }
   },
   "cell_type": "code",
   "source": [
    "processed_df = clean_df[['processed', 'is_sarcastic']]\n",
    "processed_df"
   ],
   "id": "8f510042f86f2851",
   "outputs": [
    {
     "data": {
      "text/plain": [
       "                                               processed  is_sarcastic\n",
       "0      thirtysomething scientists unveil doomsday clo...             1\n",
       "1      dem rep totally nails congress falling short g...             0\n",
       "2              eat veggies deliciously different recipes             0\n",
       "3           inclement weather prevents liar getting work             1\n",
       "4      mother comes pretty close using word streaming...             1\n",
       "...                                                  ...           ...\n",
       "28614             jews celebrate rosh hashasha something             1\n",
       "28615  internal affairs investigator disappointed con...             1\n",
       "28616  beautiful acceptance speech week came queer ko...             0\n",
       "28617  mars probe destroyed orbiting spielberg gates ...             1\n",
       "28618                            dad clarifies food stop             1\n",
       "\n",
       "[28503 rows x 2 columns]"
      ],
      "text/html": [
       "<div>\n",
       "<style scoped>\n",
       "    .dataframe tbody tr th:only-of-type {\n",
       "        vertical-align: middle;\n",
       "    }\n",
       "\n",
       "    .dataframe tbody tr th {\n",
       "        vertical-align: top;\n",
       "    }\n",
       "\n",
       "    .dataframe thead th {\n",
       "        text-align: right;\n",
       "    }\n",
       "</style>\n",
       "<table border=\"1\" class=\"dataframe\">\n",
       "  <thead>\n",
       "    <tr style=\"text-align: right;\">\n",
       "      <th></th>\n",
       "      <th>processed</th>\n",
       "      <th>is_sarcastic</th>\n",
       "    </tr>\n",
       "  </thead>\n",
       "  <tbody>\n",
       "    <tr>\n",
       "      <th>0</th>\n",
       "      <td>thirtysomething scientists unveil doomsday clo...</td>\n",
       "      <td>1</td>\n",
       "    </tr>\n",
       "    <tr>\n",
       "      <th>1</th>\n",
       "      <td>dem rep totally nails congress falling short g...</td>\n",
       "      <td>0</td>\n",
       "    </tr>\n",
       "    <tr>\n",
       "      <th>2</th>\n",
       "      <td>eat veggies deliciously different recipes</td>\n",
       "      <td>0</td>\n",
       "    </tr>\n",
       "    <tr>\n",
       "      <th>3</th>\n",
       "      <td>inclement weather prevents liar getting work</td>\n",
       "      <td>1</td>\n",
       "    </tr>\n",
       "    <tr>\n",
       "      <th>4</th>\n",
       "      <td>mother comes pretty close using word streaming...</td>\n",
       "      <td>1</td>\n",
       "    </tr>\n",
       "    <tr>\n",
       "      <th>...</th>\n",
       "      <td>...</td>\n",
       "      <td>...</td>\n",
       "    </tr>\n",
       "    <tr>\n",
       "      <th>28614</th>\n",
       "      <td>jews celebrate rosh hashasha something</td>\n",
       "      <td>1</td>\n",
       "    </tr>\n",
       "    <tr>\n",
       "      <th>28615</th>\n",
       "      <td>internal affairs investigator disappointed con...</td>\n",
       "      <td>1</td>\n",
       "    </tr>\n",
       "    <tr>\n",
       "      <th>28616</th>\n",
       "      <td>beautiful acceptance speech week came queer ko...</td>\n",
       "      <td>0</td>\n",
       "    </tr>\n",
       "    <tr>\n",
       "      <th>28617</th>\n",
       "      <td>mars probe destroyed orbiting spielberg gates ...</td>\n",
       "      <td>1</td>\n",
       "    </tr>\n",
       "    <tr>\n",
       "      <th>28618</th>\n",
       "      <td>dad clarifies food stop</td>\n",
       "      <td>1</td>\n",
       "    </tr>\n",
       "  </tbody>\n",
       "</table>\n",
       "<p>28503 rows × 2 columns</p>\n",
       "</div>"
      ]
     },
     "execution_count": 12,
     "metadata": {},
     "output_type": "execute_result"
    }
   ],
   "execution_count": 12
  },
  {
   "metadata": {},
   "cell_type": "markdown",
   "source": [
    "# Modeling\n",
    "- Logistic Regression\n",
    "- Naive Bayes\n",
    "- Random Forest\n",
    "- XGBoost\n",
    "- ruBERT"
   ],
   "id": "47d10e54507e116a"
  },
  {
   "metadata": {
    "ExecuteTime": {
     "end_time": "2024-11-11T18:04:12.896386Z",
     "start_time": "2024-11-11T18:04:12.885380Z"
    }
   },
   "cell_type": "code",
   "source": [
    "train, test = train_test_split(processed_df, test_size=0.2, random_state=42, stratify=df['is_sarcastic'])\n",
    "\n",
    "train"
   ],
   "id": "bd1238173d0631b2",
   "outputs": [
    {
     "data": {
      "text/plain": [
       "                                               processed  is_sarcastic\n",
       "1423   gobbler games brutal hunger games parody need see             0\n",
       "12087    politicians think microphone start getting real             0\n",
       "427    mike pence training vice presidential debate h...             1\n",
       "8995   bizarre mars dune pattern looks like message m...             0\n",
       "26800                                 dress code cracked             1\n",
       "...                                                  ...           ...\n",
       "25541   single replaceable person company walk get raise             1\n",
       "11001                      fbi warns american dream scam             1\n",
       "1363                         divorce life reconciliation             0\n",
       "23446  ai weiwei commemorates drowned refugees berlin...             0\n",
       "25702  vin diesel reveals groot dance guardians galax...             0\n",
       "\n",
       "[22802 rows x 2 columns]"
      ],
      "text/html": [
       "<div>\n",
       "<style scoped>\n",
       "    .dataframe tbody tr th:only-of-type {\n",
       "        vertical-align: middle;\n",
       "    }\n",
       "\n",
       "    .dataframe tbody tr th {\n",
       "        vertical-align: top;\n",
       "    }\n",
       "\n",
       "    .dataframe thead th {\n",
       "        text-align: right;\n",
       "    }\n",
       "</style>\n",
       "<table border=\"1\" class=\"dataframe\">\n",
       "  <thead>\n",
       "    <tr style=\"text-align: right;\">\n",
       "      <th></th>\n",
       "      <th>processed</th>\n",
       "      <th>is_sarcastic</th>\n",
       "    </tr>\n",
       "  </thead>\n",
       "  <tbody>\n",
       "    <tr>\n",
       "      <th>1423</th>\n",
       "      <td>gobbler games brutal hunger games parody need see</td>\n",
       "      <td>0</td>\n",
       "    </tr>\n",
       "    <tr>\n",
       "      <th>12087</th>\n",
       "      <td>politicians think microphone start getting real</td>\n",
       "      <td>0</td>\n",
       "    </tr>\n",
       "    <tr>\n",
       "      <th>427</th>\n",
       "      <td>mike pence training vice presidential debate h...</td>\n",
       "      <td>1</td>\n",
       "    </tr>\n",
       "    <tr>\n",
       "      <th>8995</th>\n",
       "      <td>bizarre mars dune pattern looks like message m...</td>\n",
       "      <td>0</td>\n",
       "    </tr>\n",
       "    <tr>\n",
       "      <th>26800</th>\n",
       "      <td>dress code cracked</td>\n",
       "      <td>1</td>\n",
       "    </tr>\n",
       "    <tr>\n",
       "      <th>...</th>\n",
       "      <td>...</td>\n",
       "      <td>...</td>\n",
       "    </tr>\n",
       "    <tr>\n",
       "      <th>25541</th>\n",
       "      <td>single replaceable person company walk get raise</td>\n",
       "      <td>1</td>\n",
       "    </tr>\n",
       "    <tr>\n",
       "      <th>11001</th>\n",
       "      <td>fbi warns american dream scam</td>\n",
       "      <td>1</td>\n",
       "    </tr>\n",
       "    <tr>\n",
       "      <th>1363</th>\n",
       "      <td>divorce life reconciliation</td>\n",
       "      <td>0</td>\n",
       "    </tr>\n",
       "    <tr>\n",
       "      <th>23446</th>\n",
       "      <td>ai weiwei commemorates drowned refugees berlin...</td>\n",
       "      <td>0</td>\n",
       "    </tr>\n",
       "    <tr>\n",
       "      <th>25702</th>\n",
       "      <td>vin diesel reveals groot dance guardians galax...</td>\n",
       "      <td>0</td>\n",
       "    </tr>\n",
       "  </tbody>\n",
       "</table>\n",
       "<p>22802 rows × 2 columns</p>\n",
       "</div>"
      ]
     },
     "execution_count": 13,
     "metadata": {},
     "output_type": "execute_result"
    }
   ],
   "execution_count": 13
  },
  {
   "metadata": {
    "ExecuteTime": {
     "end_time": "2024-11-11T18:04:15.425328Z",
     "start_time": "2024-11-11T18:04:15.420243Z"
    }
   },
   "cell_type": "code",
   "source": [
    "X = processed_df['processed']\n",
    "y = processed_df['is_sarcastic']\n",
    "\n",
    "X_train, X_test, y_train, y_test = train_test_split(X, y,\n",
    "                                                    test_size=0.2,\n",
    "                                                    random_state=42)\n",
    "\n",
    "print(X_train.shape, X_test.shape)"
   ],
   "id": "fa97deaf0950d6dc",
   "outputs": [
    {
     "name": "stdout",
     "output_type": "stream",
     "text": [
      "(22802,) (5701,)\n"
     ]
    }
   ],
   "execution_count": 14
  },
  {
   "metadata": {
    "ExecuteTime": {
     "end_time": "2024-11-11T18:04:32.550245Z",
     "start_time": "2024-11-11T18:04:17.754803Z"
    }
   },
   "cell_type": "code",
   "source": [
    "from sklearn.feature_extraction.text import TfidfVectorizer\n",
    "from sklearn.linear_model import LogisticRegression\n",
    "from sklearn.naive_bayes import MultinomialNB\n",
    "from sklearn.ensemble import RandomForestClassifier\n",
    "from xgboost import XGBClassifier\n",
    "from sklearn.metrics import accuracy_score, f1_score\n",
    "\n",
    "# Векторизация текста\n",
    "vectorizer = TfidfVectorizer()\n",
    "X_train_vec = vectorizer.fit_transform(X_train)\n",
    "X_test_vec = vectorizer.transform(X_test)\n",
    "\n",
    "# Обучение моделей\n",
    "models = {\n",
    "    'Logistic Regression': LogisticRegression(),\n",
    "    'Naive Bayes': MultinomialNB(),\n",
    "    'Random Forest': RandomForestClassifier(),\n",
    "    'XGBoost': XGBClassifier()\n",
    "}\n",
    "\n",
    "results = {}\n",
    "\n",
    "for name, model in models.items():\n",
    "    model.fit(X_train_vec, y_train)\n",
    "    y_pred = model.predict(X_test_vec)\n",
    "    accuracy = accuracy_score(y_test, y_pred)\n",
    "    f1 = f1_score(y_test, y_pred)\n",
    "    results[name] = {'Accuracy': accuracy, 'F1 Score': f1}\n",
    "    \n",
    "    print(f'{name}: Accuracy - {accuracy}, F1 Score - {f1}')"
   ],
   "id": "4c178f2b1cfcff94",
   "outputs": [
    {
     "name": "stdout",
     "output_type": "stream",
     "text": [
      "Logistic Regression: Accuracy - 0.7984564111559376, F1 Score - 0.7768498737618955\n",
      "Naive Bayes: Accuracy - 0.8024907910892826, F1 Score - 0.7790423861852434\n",
      "Random Forest: Accuracy - 0.7738993159094896, F1 Score - 0.7378482814724425\n",
      "XGBoost: Accuracy - 0.7332047009296615, F1 Score - 0.6629736317305561\n"
     ]
    }
   ],
   "execution_count": 15
  },
  {
   "metadata": {
    "ExecuteTime": {
     "end_time": "2024-11-11T18:04:36.615810Z",
     "start_time": "2024-11-11T18:04:36.459885Z"
    }
   },
   "cell_type": "code",
   "source": [
    "tf_idf_word_vectorizer = TfidfVectorizer(analyzer = \"word\")\n",
    "tf_idf_word_vectorizer.fit(X_train)\n",
    "\n",
    "x_train_tf_idf_word = tf_idf_word_vectorizer.transform(X_train)\n",
    "x_test_tf_idf_word = tf_idf_word_vectorizer.transform(X_test)"
   ],
   "id": "b49a8fb6dbe4e297",
   "outputs": [],
   "execution_count": 16
  },
  {
   "metadata": {},
   "cell_type": "markdown",
   "source": [
    "# BERT model = The best model"
   ],
   "id": "fd3602548d73d921"
  },
  {
   "metadata": {
    "ExecuteTime": {
     "end_time": "2024-11-11T18:04:44.401395Z",
     "start_time": "2024-11-11T18:04:44.397638Z"
    }
   },
   "cell_type": "code",
   "source": [
    "label2id = {\n",
    "    'Sarcasm': 1,\n",
    "    'Not sarcasm': 0\n",
    "}\n",
    "\n",
    "id2label = {v: k for k, v in label2id.items()}"
   ],
   "id": "c2fd876895000973",
   "outputs": [],
   "execution_count": 17
  },
  {
   "metadata": {
    "ExecuteTime": {
     "end_time": "2024-11-11T18:04:51.514358Z",
     "start_time": "2024-11-11T18:04:49.073715Z"
    }
   },
   "cell_type": "code",
   "source": [
    "tokenizer = BertTokenizer.from_pretrained(\"cointegrated/rubert-tiny\")\n",
    "model = BertForSequenceClassification.from_pretrained(\"cointegrated/rubert-tiny\", \n",
    "                                                      cache_dir='lang_model',\n",
    "                                                      num_labels=2,\n",
    "                                                      id2label=id2label)\n",
    "\n",
    "def preprocess_function(examples):\n",
    "    return tokenizer(examples[\"processed\"], truncation=True, padding=True, max_length=128)\n",
    "\n",
    "raw_datasets = DatasetDict({\n",
    "        \"train\": Dataset.from_pandas(train[['processed', 'is_sarcastic']]),\n",
    "        \"valid\": Dataset.from_pandas(test[['processed', 'is_sarcastic']])\n",
    "    }\n",
    ")\n",
    "\n",
    "tokenized_datasets = raw_datasets.map(\n",
    "    preprocess_function,\n",
    "    batched=True,\n",
    "    remove_columns=['__index_level_0__'],\n",
    ")\n",
    "\n",
    "data_collator = DataCollatorWithPadding(tokenizer=tokenizer)\n",
    "tokenized_datasets = tokenized_datasets.rename_column(original_column_name='is_sarcastic', new_column_name='labels')"
   ],
   "id": "e24aa474f9b183a2",
   "outputs": [
    {
     "name": "stderr",
     "output_type": "stream",
     "text": [
      "Some weights of BertForSequenceClassification were not initialized from the model checkpoint at cointegrated/rubert-tiny and are newly initialized: ['classifier.bias', 'classifier.weight']\n",
      "You should probably TRAIN this model on a down-stream task to be able to use it for predictions and inference.\n",
      "Map: 100%|██████████| 22802/22802 [00:01<00:00, 17870.71 examples/s]\n",
      "Map: 100%|██████████| 5701/5701 [00:00<00:00, 13491.54 examples/s]\n"
     ]
    }
   ],
   "execution_count": 18
  },
  {
   "metadata": {
    "ExecuteTime": {
     "end_time": "2024-11-11T18:20:22.706674Z",
     "start_time": "2024-11-11T18:05:01.025436Z"
    }
   },
   "cell_type": "code",
   "source": [
    "from transformers import Trainer, TrainingArguments\n",
    "   \n",
    "\n",
    "f1 = evaluate.load('f1')\n",
    "\n",
    "def compute_metrics(eval_pred):\n",
    "    predictions, labels = eval_pred\n",
    "    predictions = np.argmax(predictions, axis=1)\n",
    "    return {'f1': f1.compute(predictions=predictions, references=labels, average=\"micro\")[\"f1\"]}\n",
    "\n",
    "training_args = TrainingArguments(\n",
    "    output_dir=\"lang_model/finetuned_bert\",\n",
    "    use_cpu=True,\n",
    "    learning_rate=3e-5,\n",
    "    per_device_train_batch_size=64,\n",
    "    per_device_eval_batch_size=64,\n",
    "    num_train_epochs=4,\n",
    "    logging_steps=10,\n",
    "    weight_decay=0.01,\n",
    "    eval_strategy=\"epoch\",\n",
    "    save_strategy=\"epoch\",\n",
    "    load_best_model_at_end=True,\n",
    "    save_total_limit=1,\n",
    "    seed=42\n",
    ")\n",
    "\n",
    "trainer = Trainer(\n",
    "    model=model,\n",
    "    args=training_args,\n",
    "    train_dataset=tokenized_datasets[\"train\"],\n",
    "    eval_dataset=tokenized_datasets[\"valid\"],\n",
    "    tokenizer=tokenizer,\n",
    "    data_collator=data_collator,\n",
    "    compute_metrics=compute_metrics\n",
    ")\n",
    "trainer.train()\n",
    "trainer.save_model()"
   ],
   "id": "92ac14990b900615",
   "outputs": [
    {
     "name": "stderr",
     "output_type": "stream",
     "text": [
      "/var/folders/1h/6qfyp7nn31g62hlw2tr2yltm0000gn/T/ipykernel_11317/3947285395.py:27: FutureWarning: `tokenizer` is deprecated and will be removed in version 5.0.0 for `Trainer.__init__`. Use `processing_class` instead.\n",
      "  trainer = Trainer(\n"
     ]
    },
    {
     "data": {
      "text/plain": [
       "<IPython.core.display.HTML object>"
      ],
      "text/html": [
       "\n",
       "    <div>\n",
       "      \n",
       "      <progress value='1428' max='1428' style='width:300px; height:20px; vertical-align: middle;'></progress>\n",
       "      [1428/1428 15:19, Epoch 4/4]\n",
       "    </div>\n",
       "    <table border=\"1\" class=\"dataframe\">\n",
       "  <thead>\n",
       " <tr style=\"text-align: left;\">\n",
       "      <th>Epoch</th>\n",
       "      <th>Training Loss</th>\n",
       "      <th>Validation Loss</th>\n",
       "      <th>F1</th>\n",
       "    </tr>\n",
       "  </thead>\n",
       "  <tbody>\n",
       "    <tr>\n",
       "      <td>1</td>\n",
       "      <td>0.503400</td>\n",
       "      <td>0.473356</td>\n",
       "      <td>0.775829</td>\n",
       "    </tr>\n",
       "    <tr>\n",
       "      <td>2</td>\n",
       "      <td>0.396900</td>\n",
       "      <td>0.443568</td>\n",
       "      <td>0.795650</td>\n",
       "    </tr>\n",
       "    <tr>\n",
       "      <td>3</td>\n",
       "      <td>0.370400</td>\n",
       "      <td>0.423059</td>\n",
       "      <td>0.805824</td>\n",
       "    </tr>\n",
       "    <tr>\n",
       "      <td>4</td>\n",
       "      <td>0.373200</td>\n",
       "      <td>0.429671</td>\n",
       "      <td>0.806525</td>\n",
       "    </tr>\n",
       "  </tbody>\n",
       "</table><p>"
      ]
     },
     "metadata": {},
     "output_type": "display_data"
    }
   ],
   "execution_count": 19
  },
  {
   "metadata": {
    "ExecuteTime": {
     "end_time": "2024-11-11T19:34:50.204159Z",
     "start_time": "2024-11-11T19:34:43.680596Z"
    }
   },
   "cell_type": "code",
   "source": [
    "finetuned_rubert_tiny = BertForSequenceClassification.from_pretrained(\"lang_model/finetuned_bert\", \n",
    "                                                                    cache_dir='lang_model',\n",
    "                                                                    num_labels=2,\n",
    "                                                                    id2label=id2label).to('cpu')\n",
    "tokenizer = BertTokenizer.from_pretrained(\"lang_model/finetuned_bert\")\n",
    "\n",
    "def get_local_sentiment_rubert_tiny(text, tokenizer=tokenizer, model=finetuned_rubert_tiny):\n",
    "    with torch.no_grad():\n",
    "        inputs = tokenizer(text, return_tensors='pt', truncation=True, padding=True).to('cpu')\n",
    "        logits = model(**inputs).logits  # Получаем логиты\n",
    "        proba = torch.sigmoid(logits)  # Применяем сигмоиду для получения вероятностей\n",
    "        return proba.argmax(dim=1).item()  # Возвращаем индекс класса с максимальной вероятностью\n",
    "\n",
    "print(classification_report(test.is_sarcastic, test.processed.apply(get_local_sentiment_rubert_tiny)))"
   ],
   "id": "64958f1df606ba73",
   "outputs": [
    {
     "name": "stdout",
     "output_type": "stream",
     "text": [
      "              precision    recall  f1-score   support\n",
      "\n",
      "           0       0.81      0.82      0.82      2990\n",
      "           1       0.80      0.79      0.80      2711\n",
      "\n",
      "    accuracy                           0.81      5701\n",
      "   macro avg       0.81      0.81      0.81      5701\n",
      "weighted avg       0.81      0.81      0.81      5701\n"
     ]
    }
   ],
   "execution_count": 30
  },
  {
   "metadata": {
    "ExecuteTime": {
     "end_time": "2024-11-11T19:44:25.520154Z",
     "start_time": "2024-11-11T19:44:25.448446Z"
    }
   },
   "cell_type": "code",
   "source": [
    "finetuned_rubert_tiny.save_pretrained('model')\n",
    "tokenizer.save_pretrained('model')"
   ],
   "id": "83ff21446c34924",
   "outputs": [
    {
     "data": {
      "text/plain": [
       "('model/tokenizer_config.json',\n",
       " 'model/special_tokens_map.json',\n",
       " 'model/vocab.txt',\n",
       " 'model/added_tokens.json')"
      ]
     },
     "execution_count": 42,
     "metadata": {},
     "output_type": "execute_result"
    }
   ],
   "execution_count": 42
  },
  {
   "metadata": {},
   "cell_type": "raw",
   "source": "Проведен эксперимент по реализации классификатора текста по наличию сарказма. Обработаны данные для обучения, обучена модель BERT и помещена в промшленное использование.",
   "id": "c9d278c7eb6c1059"
  }
 ],
 "metadata": {
  "kernelspec": {
   "display_name": "Python 3",
   "language": "python",
   "name": "python3"
  },
  "language_info": {
   "codemirror_mode": {
    "name": "ipython",
    "version": 2
   },
   "file_extension": ".py",
   "mimetype": "text/x-python",
   "name": "python",
   "nbconvert_exporter": "python",
   "pygments_lexer": "ipython2",
   "version": "2.7.6"
  }
 },
 "nbformat": 4,
 "nbformat_minor": 5
}
